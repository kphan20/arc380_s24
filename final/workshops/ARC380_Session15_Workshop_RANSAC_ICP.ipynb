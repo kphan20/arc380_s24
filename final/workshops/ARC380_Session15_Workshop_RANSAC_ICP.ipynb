{
 "cells": [
  {
   "cell_type": "markdown",
   "metadata": {},
   "source": [
    "## ARC 380 / CEE 380 – Introduction to Robotics for Digital Fabrication\n",
    "## Session 16 Workshop\n",
    "Princeton University, Spring 2024\n",
    "\n",
    "Professor: Arash Adel | Assistant-in-Instruction: Daniel Ruan\n",
    "\n",
    "---"
   ]
  },
  {
   "cell_type": "markdown",
   "metadata": {},
   "source": [
    "# 1. Open3D"
   ]
  },
  {
   "cell_type": "markdown",
   "metadata": {},
   "source": [
    "\"Open3D is an open-source library that supports rapid development of software that deals with 3D data.\" [1]\n",
    "\n",
    "Sources:\n",
    "- [1] https://www.open3d.org/"
   ]
  },
  {
   "cell_type": "code",
   "execution_count": 1,
   "metadata": {},
   "outputs": [],
   "source": [
    "# %pip install open3d\n",
    "# %pip install scipy"
   ]
  },
  {
   "cell_type": "code",
   "execution_count": 2,
   "metadata": {},
   "outputs": [
    {
     "name": "stdout",
     "output_type": "stream",
     "text": [
      "Jupyter environment detected. Enabling Open3D WebVisualizer.\n",
      "[Open3D INFO] WebRTC GUI backend enabled.\n",
      "[Open3D INFO] WebRTCWindowSystem: HTTP handshake server disabled.\n"
     ]
    }
   ],
   "source": [
    "import numpy as np\n",
    "import open3d as o3d"
   ]
  },
  {
   "cell_type": "markdown",
   "metadata": {},
   "source": [
    "---\n",
    "\n",
    "# 2. RANSAC"
   ]
  },
  {
   "cell_type": "markdown",
   "metadata": {},
   "source": [
    "Create a point cloud that simulates a plane with noisy measurements."
   ]
  },
  {
   "cell_type": "code",
   "execution_count": 3,
   "metadata": {},
   "outputs": [],
   "source": [
    "# Parameters\n",
    "width, height = 50, 50  # Size of the plane\n",
    "noise_sigma = 0.01  # Noise standard deviation\n",
    "A, B, C, D = 1.0, 0.0, 1.0, 0.0  # Plane equation: Ax + By + Cz + D = 0\n",
    "\n",
    "# Generate a mesh grid\n",
    "x = np.linspace(-0.5, 0.5, width)\n",
    "y = np.linspace(-0.5, 0.5, height)\n",
    "xx, yy = np.meshgrid(x, y)\n",
    "zz = (-A * xx - B * yy - D) / C\n",
    "\n",
    "# Flatten the grid to N x 3 points (N = width x height)\n",
    "points = np.vstack((xx.flatten(), yy.flatten(), zz.flatten())).T\n",
    "\n",
    "# Add Gaussian noise\n",
    "points_noisy = points + np.random.normal(0, noise_sigma, points.shape)\n",
    "\n",
    "# Create Open3D point cloud\n",
    "pcd = o3d.geometry.PointCloud()\n",
    "pcd.points = o3d.utility.Vector3dVector(points_noisy)\n",
    "pcd.paint_uniform_color([0, 0, 1])  # Blue\n",
    "\n",
    "# Visualize the point cloud\n",
    "coordinate_frame = o3d.geometry.TriangleMesh.create_coordinate_frame(size=0.1, origin=[0, 0, 0])\n",
    "o3d.visualization.draw_geometries([pcd, coordinate_frame])"
   ]
  },
  {
   "cell_type": "markdown",
   "metadata": {},
   "source": [
    "Define the RANSAC plane-fitting function."
   ]
  },
  {
   "cell_type": "code",
   "execution_count": 4,
   "metadata": {},
   "outputs": [],
   "source": [
    "def fit_plane_RANSAC(points, num_iterations=1000, distance_threshold=0.01):\n",
    "    \"\"\"\n",
    "    Fits a plane to a set of 3D points using the RANSAC algorithm.\n",
    "\n",
    "    Parameters:\n",
    "    - points: numpy array of shape (N, 3) representing the 3D points.\n",
    "    - num_iterations: number of iterations to perform RANSAC (default: 1000).\n",
    "    - distance_threshold: maximum distance from the plane for a point to be considered an inlier (default: 0.01).\n",
    "\n",
    "    Returns:\n",
    "    - best_plane: tuple (normal_vector, d) representing the best-fit plane, where normal_vector is the normal vector of the plane and d is the distance from the origin.\n",
    "    - inlier_points: numpy array of shape (M, 3) representing the inlier points that lie close to the plane.\n",
    "    \"\"\"\n",
    "\n",
    "    max_inliers = []\n",
    "    best_plane = None\n",
    "\n",
    "    for i in range(num_iterations):\n",
    "        # Step 1: Randomly select 3 points\n",
    "        sample_indices = np.random.choice(points.shape[0], 3, replace=False)\n",
    "        sample_points = points[sample_indices, :]\n",
    "\n",
    "        # Step 2: Compute the plane defined by these three points\n",
    "        v1 = sample_points[1] - sample_points[0]\n",
    "        v2 = sample_points[2] - sample_points[0]\n",
    "        normal_vector = np.cross(v1, v2)\n",
    "        normal_vector = normal_vector / np.linalg.norm(normal_vector)  # Normalize the vector\n",
    "        d = -np.dot(normal_vector, sample_points[0]) # Compute d in the plane equation (Projection of the first point on the normal vector)\n",
    "\n",
    "        # Step 3: Count inliers, i.e., points close to the plane\n",
    "        distances = np.abs(np.dot(points, normal_vector) + d)\n",
    "        inliers = np.where(distances < distance_threshold)[0]\n",
    "\n",
    "        # Step 4: Check if the current model is the best one\n",
    "        if len(inliers) > len(max_inliers):\n",
    "            max_inliers = inliers\n",
    "            best_plane = (normal_vector, d)\n",
    "\n",
    "    return best_plane, points[max_inliers]"
   ]
  },
  {
   "cell_type": "markdown",
   "metadata": {},
   "source": [
    "Run the RANSAC function on our point cloud and visualize the best-fit plane. Edit `noise_sigma` and the plane equation in the first cell to test the capabilities of RANSAC. (You may also need to edit the `distance_threshold`.)\n",
    "\n",
    "Also note how quickly the code runs even though we are iterating 1000 times."
   ]
  },
  {
   "cell_type": "code",
   "execution_count": 5,
   "metadata": {},
   "outputs": [
    {
     "name": "stdout",
     "output_type": "stream",
     "text": [
      "RANSAC execution time:  0.13097 seconds.\n",
      "1707 inliers out of 2500 points.\n",
      "Plane normal: [-0.70912758 -0.00491794 -0.70506304]\n",
      "Plane d: -0.0005978101073474203\n"
     ]
    }
   ],
   "source": [
    "# Time the plane-fitting RANSAC function\n",
    "import time\n",
    "start_time = time.time()\n",
    "plane, inliers = fit_plane_RANSAC(np.asarray(pcd.points), num_iterations=1000, distance_threshold=0.01)\n",
    "print(f'RANSAC execution time: {time.time() - start_time: .5f} seconds.')\n",
    "\n",
    "print(f'{len(inliers)} inliers out of {len(pcd.points)} points.')\n",
    "print(f'Plane normal: {plane[0]}')\n",
    "print(f'Plane d: {plane[1]}')\n",
    "\n",
    "# Create a mesh for the plane\n",
    "from helper import create_plane_mesh\n",
    "plane_mesh = create_plane_mesh(plane, size=1.5)  # Adjust 'size' as needed\n",
    "plane_mesh.paint_uniform_color([0.8, 0.8, 0.8])\n",
    "\n",
    "# Visualizing the plane with the point cloud\n",
    "o3d.visualization.draw_geometries([pcd, plane_mesh, coordinate_frame])"
   ]
  },
  {
   "cell_type": "markdown",
   "metadata": {},
   "source": [
    "Our implementation of RANSAC is very basic and not the most efficient, but it illustrates the primary steps. There are functions for RANSAC built into Open3D that can run RANSAC much faster, such as `segment_plane`. So much faster that we need to use a dedicated library to measure it."
   ]
  },
  {
   "cell_type": "code",
   "execution_count": 6,
   "metadata": {},
   "outputs": [
    {
     "name": "stdout",
     "output_type": "stream",
     "text": [
      "Open3D RANSAC average execution time: 0.00021945510000000114 seconds.\n"
     ]
    }
   ],
   "source": [
    "# Define a wrapper that runs the Open3D RANSAC function\n",
    "def wrapper():\n",
    "    pcd.segment_plane(distance_threshold=0.01, ransac_n=3, num_iterations=1000)\n",
    "\n",
    "# Run the function 1000 times and calculate the average time taken using timeit\n",
    "import timeit\n",
    "n = 1000\n",
    "total_time_taken = timeit.timeit('wrapper()', globals=globals(), number=n)\n",
    "avg_time_taken = total_time_taken / n\n",
    "\n",
    "print(f'Open3D RANSAC average execution time: {avg_time_taken} seconds.')"
   ]
  },
  {
   "cell_type": "markdown",
   "metadata": {},
   "source": [
    "---\n",
    "\n",
    "# 3. ICP"
   ]
  },
  {
   "cell_type": "markdown",
   "metadata": {},
   "source": [
    "For our ICP example, we will be using the Stanford bunny model, which is widely used as a test model for 3D computer graphics.\n",
    "\n",
    "Source: http://graphics.stanford.edu/data/3Dscanrep/"
   ]
  },
  {
   "cell_type": "code",
   "execution_count": 47,
   "metadata": {},
   "outputs": [],
   "source": [
    "# Load the Stanford bunny point cloud\n",
    "bunny_model = o3d.io.read_point_cloud(\"bunny.ply\")\n",
    "\n",
    "# Visualize the bunny and the scene\n",
    "o3d.visualization.draw_geometries([bunny_model])"
   ]
  },
  {
   "cell_type": "markdown",
   "metadata": {},
   "source": [
    "We will need some code from helper.py for generating the example."
   ]
  },
  {
   "cell_type": "code",
   "execution_count": 48,
   "metadata": {},
   "outputs": [],
   "source": [
    "from helper import random_transformation"
   ]
  },
  {
   "cell_type": "markdown",
   "metadata": {},
   "source": [
    "To simulate scanning, we will make a copy of the bunny (reimport it again) and randomly transform it in the world, which forms the scanned scene.\n",
    "\n",
    "What we are trying to do with ICP is determine what this random transformation is by matching the bunny model to the bunny in the scene."
   ]
  },
  {
   "cell_type": "code",
   "execution_count": 49,
   "metadata": {},
   "outputs": [
    {
     "name": "stdout",
     "output_type": "stream",
     "text": [
      "[[ 0.72167535 -0.21278266  0.65871711  0.72370259]\n",
      " [ 0.49047354  0.82868347 -0.26966537  0.31948244]\n",
      " [-0.48848786  0.51769416  0.7024047  -0.61112122]\n",
      " [ 0.          0.          0.          1.        ]]\n"
     ]
    }
   ],
   "source": [
    "# Make a copy of the bunny\n",
    "bunny_scene = o3d.io.read_point_cloud(\"bunny.ply\")\n",
    "\n",
    "# Create random 3D rotation matrix and apply it to the scene\n",
    "T = random_transformation(scale=1)\n",
    "bunny_scene.transform(T)\n",
    "\n",
    "# Visualize the bunny in the scene\n",
    "# The model is in blue, and the scene is in red\n",
    "bunny_model.paint_uniform_color([0, 0, 1])  # Blue\n",
    "bunny_scene.paint_uniform_color([1, 0, 0])  # Red\n",
    "o3d.visualization.draw_geometries([bunny_model, bunny_scene])"
   ]
  },
  {
   "cell_type": "markdown",
   "metadata": {},
   "source": [
    "Similar to RANSAC, more efficient versions of ICP have been implemented in Open3D."
   ]
  },
  {
   "cell_type": "code",
   "execution_count": 54,
   "metadata": {},
   "outputs": [
    {
     "name": "stdout",
     "output_type": "stream",
     "text": [
      "Open3D ICP execution time:  0.44415 seconds.\n",
      "[[ 0.73349037 -0.20733791  0.64730431  0.72238997]\n",
      " [ 0.45072586  0.86120549 -0.23488571  0.31578128]\n",
      " [-0.50876131  0.4640432   0.72513849 -0.60636178]\n",
      " [ 0.          0.          0.          1.        ]]\n"
     ]
    }
   ],
   "source": [
    "# Run the Open3D ICP algorithm\n",
    "icp_result = o3d.pipelines.registration.registration_icp(bunny_model, bunny_scene, 1.0)\n",
    "\n",
    "print(icp_result.transformation)"
   ]
  },
  {
   "cell_type": "markdown",
   "metadata": {},
   "source": [
    "We can transform the scene model and visualize the result."
   ]
  },
  {
   "cell_type": "code",
   "execution_count": 55,
   "metadata": {},
   "outputs": [
    {
     "data": {
      "text/plain": [
       "PointCloud with 35947 points."
      ]
     },
     "execution_count": 55,
     "metadata": {},
     "output_type": "execute_result"
    }
   ],
   "source": [
    "from copy import deepcopy\n",
    "# Make a copy of the bunny model and apply the ICP transformation\n",
    "bunny_model_icp = deepcopy(bunny_model)\n",
    "bunny_model_icp.transform(icp_result.transformation)"
   ]
  },
  {
   "cell_type": "code",
   "execution_count": 57,
   "metadata": {},
   "outputs": [],
   "source": [
    "# Visualize the bunny model and the scene after ICP\n",
    "o3d.visualization.draw_geometries([bunny_model_icp, bunny_scene])"
   ]
  }
 ],
 "metadata": {
  "kernelspec": {
   "display_name": "arc380",
   "language": "python",
   "name": "python3"
  },
  "language_info": {
   "codemirror_mode": {
    "name": "ipython",
    "version": 3
   },
   "file_extension": ".py",
   "mimetype": "text/x-python",
   "name": "python",
   "nbconvert_exporter": "python",
   "pygments_lexer": "ipython3",
   "version": "3.9.19"
  }
 },
 "nbformat": 4,
 "nbformat_minor": 2
}
