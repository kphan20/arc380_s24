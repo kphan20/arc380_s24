{
 "cells": [
  {
   "cell_type": "markdown",
   "metadata": {},
   "source": [
    "## ARC 380 / CEE 380 – Introduction to Robotics for Digital Fabrication\n",
    "## Session 9 Code Supplement\n",
    "Princeton University, Spring 2024\n",
    "\n",
    "Professor: Arash Adel | Assistant-in-Instruction: Daniel Ruan\n",
    "\n",
    "---"
   ]
  },
  {
   "cell_type": "markdown",
   "metadata": {},
   "source": [
    "# 1 Motion Planning Algorithms"
   ]
  },
  {
   "cell_type": "markdown",
   "metadata": {},
   "source": [
    "## 1.1 A* Search"
   ]
  },
  {
   "cell_type": "markdown",
   "metadata": {},
   "source": [
    "### Imports and helper/visualization functions"
   ]
  },
  {
   "cell_type": "code",
   "execution_count": null,
   "metadata": {},
   "outputs": [],
   "source": [
    "import numpy as np\n",
    "import matplotlib.pyplot as plt\n",
    "from matplotlib.animation import FuncAnimation"
   ]
  },
  {
   "cell_type": "code",
   "execution_count": null,
   "metadata": {},
   "outputs": [],
   "source": [
    "# Grid visualization\n",
    "\n",
    "import matplotlib.pyplot as plt\n",
    "import matplotlib.patches as patches\n",
    "\n",
    "def visualize_grid(grid_size, start, goal, obstacles, path=None):\n",
    "    fig, ax = plt.subplots(figsize=(5, 5))\n",
    "    # Create a grid\n",
    "    ax.set_xlim([0, grid_size[1]])\n",
    "    ax.set_ylim([0, grid_size[0]])\n",
    "\n",
    "    # Draw grid lines\n",
    "    for x in range(grid_size[1] + 1):\n",
    "        ax.axvline(x, lw=1, color='lightgray', zorder=0)\n",
    "    for y in range(grid_size[0] + 1):\n",
    "        ax.axhline(y, lw=1, color='lightgray', zorder=0)\n",
    "\n",
    "    # Start cell\n",
    "    ax.add_patch(patches.Rectangle((start[0], start[1]), 1, 1, color='green'))\n",
    "    # Goal cell\n",
    "    ax.add_patch(patches.Rectangle((goal[0], goal[1]), 1, 1, color='red'))\n",
    "    # Obstacles\n",
    "    for obs in obstacles:\n",
    "        ax.add_patch(patches.Rectangle((obs[0], obs[1]), 1, 1, color='black'))\n",
    "    # Path\n",
    "    if path:\n",
    "        for step in path:\n",
    "            ax.add_patch(patches.Rectangle((step[0], step[1]), 1, 1, color='blue', alpha=0.5))\n",
    "\n",
    "    plt.axis('off')\n",
    "    plt.show()\n"
   ]
  },
  {
   "cell_type": "markdown",
   "metadata": {},
   "source": [
    "### A* search algorithm"
   ]
  },
  {
   "cell_type": "code",
   "execution_count": null,
   "metadata": {},
   "outputs": [],
   "source": [
    "# A* search algorithm\n",
    "\n",
    "def a_star_search(grid_size, start, goal, obstacles):\n",
    "    # Create a grid\n",
    "    grid = np.zeros(grid_size, dtype=int)\n",
    "    for obs in obstacles:\n",
    "        grid[obs] = 1\n",
    "\n",
    "    # Create a list to store the path\n",
    "    path = []\n",
    "\n",
    "    # Create a list to store the open and closed nodes\n",
    "    open_nodes = []\n",
    "    closed_nodes = []\n",
    "\n",
    "    # Create a list to store the cost of each node\n",
    "    g_cost = np.inf * np.ones(grid_size, dtype=int)\n",
    "    h_cost = np.inf * np.ones(grid_size, dtype=int)\n",
    "\n",
    "    # Add the start node to the open list\n",
    "    open_nodes.append(start)\n",
    "    g_cost[start] = 0\n",
    "    h_cost[start] = np.abs(goal[0] - start[0]) + np.abs(goal[1] - start[1])\n",
    "\n",
    "    # Create a list to store the neighbors\n",
    "    neighbors = [(-1, 0), (1, 0), (0, -1), (0, 1)]\n",
    "\n",
    "    while open_nodes:\n",
    "        # Get the node with the lowest f_cost (g_cost + h_cost)\n",
    "        current = open_nodes[0]\n",
    "        for node in open_nodes:\n",
    "            if g_cost[node] + h_cost[node] < g_cost[current] + h_cost[current]:\n",
    "                current = node\n",
    "\n",
    "        # Remove the current node from the open list\n",
    "        open_nodes.remove(current)\n",
    "\n",
    "        # Add the current node to the closed list\n",
    "        closed_nodes.append(current)\n",
    "\n",
    "        # Check if the current node is the goal\n",
    "        if current == goal:\n",
    "            # Reconstruct the path\n",
    "            path.append(current)\n",
    "            while current != start:\n",
    "                for neighbor in neighbors:\n",
    "                    next_node = (current[0] + neighbor[0], current[1] + neighbor[1])\n",
    "                    if next_node in closed_nodes and g_cost[next_node] == g_cost[current] - 1:\n",
    "                        path.append(next_node)\n",
    "                        current = next_node\n",
    "                        break\n",
    "            path.reverse()\n",
    "            return path\n",
    "\n",
    "        # Expand the current node\n",
    "        for neighbor in neighbors:\n",
    "            next_node = (current[0] + neighbor[0], current[1] + neighbor[1])\n",
    "\n",
    "            # Check if the next node is inside the grid\n",
    "            if next_node[0] < 0 or next_node[0] >= grid_size[0] or next_node[1] < 0 or next_node[1] >= grid_size[1]:\n",
    "                continue\n",
    "\n",
    "            # Check if the next node is an obstacle\n",
    "            if grid[next_node] == 1:\n",
    "                continue\n",
    "\n",
    "            # Check if the next node is in the closed list\n",
    "            if next_node in closed_nodes:\n",
    "                continue\n",
    "\n",
    "            # Calculate the cost of the next node\n",
    "            cost = g_cost[current] + 1\n",
    "\n",
    "            # Check if the next node is in the open list\n",
    "            if next_node not in open_nodes:\n",
    "                open_nodes.append(next_node)\n",
    "            elif cost >= g_cost[next_node]:\n",
    "                continue\n",
    "\n",
    "            # Update the cost of the next node\n",
    "            g_cost[next_node] = cost\n",
    "            h_cost[next_node] = cost + np.abs(goal[0] - next_node[0]) + np.abs(goal[1] - next_node[1])\n"
   ]
  },
  {
   "cell_type": "markdown",
   "metadata": {},
   "source": [
    "### Test example"
   ]
  },
  {
   "cell_type": "code",
   "execution_count": null,
   "metadata": {},
   "outputs": [],
   "source": [
    "# Grid dimensions and obstacles\n",
    "grid_size = (5, 5)\n",
    "obstacles = [(2, 1), (3, 1), (2, 2), (2, 3), (4, 1)]"
   ]
  },
  {
   "cell_type": "code",
   "execution_count": null,
   "metadata": {},
   "outputs": [],
   "source": [
    "# Define start and goal\n",
    "start = (0, 0)\n",
    "goal = (4, 3)\n",
    "\n",
    "# Visualize the grid\n",
    "visualize_grid(grid_size, start, goal, obstacles)"
   ]
  },
  {
   "cell_type": "code",
   "execution_count": null,
   "metadata": {},
   "outputs": [],
   "source": [
    "path = a_star_search(grid_size, start, goal, obstacles)\n",
    "print(path)\n",
    "visualize_grid(grid_size, start, goal, obstacles, path)"
   ]
  },
  {
   "cell_type": "markdown",
   "metadata": {},
   "source": [
    "---\n",
    "\n",
    "## 1.2 RRT Algorithm"
   ]
  },
  {
   "cell_type": "markdown",
   "metadata": {},
   "source": [
    "### Imports and helper/visualization functions"
   ]
  },
  {
   "cell_type": "code",
   "execution_count": null,
   "metadata": {},
   "outputs": [],
   "source": [
    "import numpy as np\n",
    "import matplotlib.pyplot as plt\n",
    "from matplotlib.patches import Circle\n"
   ]
  },
  {
   "cell_type": "code",
   "execution_count": null,
   "metadata": {},
   "outputs": [],
   "source": [
    "def visualize_environment(obstacles, start, goal, tree):\n",
    "    fig, ax = plt.subplots(figsize=(5, 5))\n",
    "    ax.set_xlim(x_lim)\n",
    "    ax.set_ylim(y_lim)\n",
    "\n",
    "    # Draw obstacles\n",
    "    for center, radius in obstacles:\n",
    "        ax.add_patch(Circle(center, radius, color='red'))\n",
    "\n",
    "    # Draw the start and goal\n",
    "    ax.plot(start[0], start[1], 'go')  # start in green\n",
    "    ax.plot(goal[0], goal[1], 'ro')  # goal in red\n",
    "\n",
    "    # Draw the tree\n",
    "    for node, parent_idx in tree[1:]:  # Skip the first node as it is the root and has no parent\n",
    "        if parent_idx is not None:  # Safety check, though all should have parents except the root\n",
    "            parent_node = tree[parent_idx][0]  # Retrieve the parent node position\n",
    "            plt.plot([parent_node[0], node[0]], [parent_node[1], node[1]], 'b')\n",
    "\n",
    "    plt.show()\n"
   ]
  },
  {
   "cell_type": "code",
   "execution_count": null,
   "metadata": {},
   "outputs": [],
   "source": [
    "def distance(point1, point2):\n",
    "    \"\"\"Calculate the Euclidean distance between two points.\"\"\"\n",
    "    return np.linalg.norm(np.array(point1) - np.array(point2))\n",
    "\n",
    "def nearest_node(tree, node):\n",
    "    \"\"\"Find the nearest node in the tree to the given node.\"\"\"\n",
    "    distances = [distance(node, n[0]) for n in tree]\n",
    "    nearest_index = np.argmin(distances)\n",
    "    return nearest_index\n",
    "\n",
    "def is_collision_free(new_node, nearest_node, obstacles):\n",
    "    \"\"\"Check if the path between new_node and nearest_node is collision-free.\"\"\"\n",
    "    # Helper function to clamp a value between two limits\n",
    "    def clamp(n: float, smallest: float, largest: float) -> float:\n",
    "        return max(smallest, min(largest, n))\n",
    "\n",
    "    # Helper function to calculate the distance between a point and a line segment\n",
    "    def dist(edge, pt) -> float:\n",
    "        edge_length = np.linalg.norm(edge[1] - edge[0])\n",
    "        t = np.dot(pt - edge[0], edge[1] - edge[0]) / (edge_length ** 2)\n",
    "        t = clamp(t, 0, 1)\n",
    "        edge_pt = edge[0] + t * (edge[1] - edge[0])\n",
    "        return np.linalg.norm(pt - edge_pt)\n",
    "\n",
    "    edge = np.array([nearest_node, new_node])\n",
    "    in_free_space = True\n",
    "    for obstacle in obstacles:\n",
    "        if dist(edge, obstacle[0]) <= obstacle[1]:\n",
    "            in_free_space = False\n",
    "            break\n",
    "    return in_free_space\n",
    "\n",
    "def step_from_to(node1, node2, step_size=1):\n",
    "    \"\"\"Return a point step_size away from node1 towards node2.\"\"\"\n",
    "    if distance(node1, node2) < step_size:\n",
    "        return node2\n",
    "    else:\n",
    "        theta = np.arctan2(node2[1]-node1[1], node2[0]-node1[0])\n",
    "        return node1[0] + step_size*np.cos(theta), node1[1] + step_size*np.sin(theta)\n"
   ]
  },
  {
   "cell_type": "markdown",
   "metadata": {},
   "source": [
    "### RRT algorithm"
   ]
  },
  {
   "cell_type": "code",
   "execution_count": null,
   "metadata": {},
   "outputs": [],
   "source": [
    "def rrt(start, goal, obstacles, num_iterations=500, step_size=1):\n",
    "    tree = [(start_pos, None)]      # Initialize the tree with the start position and no parent\n",
    "    for _ in range(num_iterations):\n",
    "        # Randomly sample a point in the environment\n",
    "        rand_node = (np.random.uniform(x_lim[0], x_lim[1]), np.random.uniform(y_lim[0], y_lim[1]))\n",
    "\n",
    "        # Find the nearest node in the tree to the random node\n",
    "        nearest_idx = nearest_node(tree, rand_node)\n",
    "\n",
    "        # Step from the nearest node to the random node\n",
    "        new_node = step_from_to(tree[nearest_idx][0], rand_node, step_size)\n",
    "\n",
    "        # Check if the path between new_node and nearest_node is collision-free\n",
    "        if is_collision_free(new_node, tree[nearest_idx][0], obstacles):\n",
    "            tree.append((new_node, nearest_idx))\n",
    "\n",
    "            # Check if the new node is close to the goal\n",
    "            if distance(new_node, goal) <= step_size:\n",
    "                print(\"Goal reached.\")\n",
    "                return tree\n",
    "    print(\"Goal not reached.\")\n",
    "    return tree\n"
   ]
  },
  {
   "cell_type": "markdown",
   "metadata": {},
   "source": [
    "### Test example"
   ]
  },
  {
   "cell_type": "code",
   "execution_count": null,
   "metadata": {},
   "outputs": [],
   "source": [
    "# Define boundaries\n",
    "x_lim = (0, 100)\n",
    "y_lim = (0, 100)\n",
    "\n",
    "# Define obstacles as circles (center and radius)\n",
    "obstacles = [((40, 60), 10), ((70, 80), 15), ((20, 40), 20)]\n",
    "\n",
    "# Start and Goal positions\n",
    "start_pos = (10, 10)\n",
    "goal_pos = (90, 90)"
   ]
  },
  {
   "cell_type": "code",
   "execution_count": null,
   "metadata": {},
   "outputs": [],
   "source": [
    "num_iterations = 500\n",
    "step_size = 3\n",
    "\n",
    "tree = rrt(start_pos, goal_pos, obstacles, num_iterations, step_size)\n",
    "visualize_environment(obstacles, start_pos, goal_pos, tree)"
   ]
  }
 ],
 "metadata": {
  "kernelspec": {
   "display_name": "arc380",
   "language": "python",
   "name": "python3"
  },
  "language_info": {
   "codemirror_mode": {
    "name": "ipython",
    "version": 3
   },
   "file_extension": ".py",
   "mimetype": "text/x-python",
   "name": "python",
   "nbconvert_exporter": "python",
   "pygments_lexer": "ipython3",
   "version": "3.9.18"
  }
 },
 "nbformat": 4,
 "nbformat_minor": 2
}
